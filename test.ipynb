{
 "cells": [
  {
   "cell_type": "markdown",
   "metadata": {},
   "source": [
    "提取不带图片的对话"
   ]
  },
  {
   "cell_type": "code",
   "execution_count": 10,
   "metadata": {},
   "outputs": [
    {
     "name": "stdout",
     "output_type": "stream",
     "text": [
      "5812\n"
     ]
    }
   ],
   "source": [
    "import os\n",
    "import pandas as  pd\n",
    "\n",
    "data = os.path.join(\"data\", os.listdir(\"data\")[1])\n",
    "df = pd.read_excel(data)\n",
    "\n",
    "case_id_list = []\n",
    "case_id = \"0\"\n",
    "has_jpg = 0\n",
    "for index, row in df.iterrows():\n",
    "    if row[\"Case ID\"] != case_id:\n",
    "        if has_jpg == 0:\n",
    "            case_id_list.append(case_id)\n",
    "        case_id = row[\"Case ID\"]\n",
    "        has_jpg = 0\n",
    "    if has_jpg == 1:\n",
    "        continue\n",
    "    msg = row[\"消息正文\"]\n",
    "    if isinstance(msg, str) and (\"https\" in msg and (\".jpg\" in msg or \".mp4\" in msg) or \"驱动\" in msg):\n",
    "        has_jpg = 1\n",
    "        continue\n",
    "\n",
    "print(len(case_id_list))\n",
    "        "
   ]
  },
  {
   "cell_type": "code",
   "execution_count": 11,
   "metadata": {},
   "outputs": [
    {
     "name": "stdout",
     "output_type": "stream",
     "text": [
      "['0', 'tYA0HJo-yX', 'tYA0rUH-EE', 'tYA12Zd-An', 'tYA1335-C8', 'tYA16P7-z2', 'tYA1cUa-xZ', 'tYA1gJI-Ds', 'tYA1nAC-yX', 'tYA20WB-xb']\n",
      "data\\文本交付内容2023-12-15至2023-12-21-10329.xlsx\n"
     ]
    }
   ],
   "source": [
    "print(case_id_list[:10])\n",
    "print(data)"
   ]
  },
  {
   "cell_type": "code",
   "execution_count": 5,
   "metadata": {},
   "outputs": [
    {
     "name": "stdout",
     "output_type": "stream",
     "text": [
      "10329\n"
     ]
    }
   ],
   "source": [
    "import os\n",
    "import pandas as  pd\n",
    "\n",
    "data = os.path.join(\"data\", os.listdir(\"data\")[1])\n",
    "df = pd.read_excel(data)\n",
    "\n",
    "case_id_list = []\n",
    "case_id = \"0\"\n",
    "has_jpg = 0\n",
    "for index, row in df.iterrows():\n",
    "    case_id = row[\"Case ID\"]\n",
    "    if case_id not in case_id_list:\n",
    "        case_id_list.append(case_id)\n",
    "\n",
    "print(len(case_id_list))"
   ]
  }
 ],
 "metadata": {
  "kernelspec": {
   "display_name": "Python 3",
   "language": "python",
   "name": "python3"
  },
  "language_info": {
   "codemirror_mode": {
    "name": "ipython",
    "version": 3
   },
   "file_extension": ".py",
   "mimetype": "text/x-python",
   "name": "python",
   "nbconvert_exporter": "python",
   "pygments_lexer": "ipython3",
   "version": "3.11.5"
  }
 },
 "nbformat": 4,
 "nbformat_minor": 2
}
