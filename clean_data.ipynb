{
 "cells": [
  {
   "cell_type": "markdown",
   "metadata": {},
   "source": [
    "### 打码方法\n",
    "手机号"
   ]
  },
  {
   "cell_type": "code",
   "execution_count": null,
   "metadata": {},
   "outputs": [],
   "source": [
    "def remove_spaces(string: str):\n",
    "    # 使用 replace() 函数将所有空格替换为空字符串\n",
    "    try:\n",
    "        result = string.replace(\" \", \"\")\n",
    "        result = string.replace(\"-\", \"\")\n",
    "        result = string.replace(\"_\", \"\")\n",
    "        return result\n",
    "    except Exception as e:\n",
    "        print(\"Remove Space Error: %s\" % e)\n",
    "        return string\n",
    "        \n",
    "\n",
    "def mask_numbers_in_text(string: str):\n",
    "    string_nospace = remove_spaces(string)\n",
    "    pos_list = [i for i in range(len(string_nospace)) if str.isdigit(string_nospace[i])]\n",
    "    if len(pos_list) == 0:\n",
    "        return string\n",
    "    pos_info = []\n",
    "    count = 1\n",
    "    start = pos_list[0]\n",
    "    # 寻找连续数字\n",
    "    for i in range(1, len(pos_list)):\n",
    "        if pos_list[i] - pos_list[i-1] == 1:\n",
    "            count += 1\n",
    "            continue\n",
    "        else:\n",
    "            end = pos_list[i-1]\n",
    "            if start != end:\n",
    "                resp = {\"start\": start, \"len\": count}\n",
    "                pos_info.append(resp)\n",
    "                count = 1\n",
    "            start = pos_list[i]\n",
    "    end = pos_list[-1]\n",
    "    if start != end:\n",
    "        resp = {\"start\": start, \"len\": count}\n",
    "        pos_info.append(resp)\n",
    "    # print(pos_info)\n",
    "    # 抹掉长数字\n",
    "    for item in pos_info:\n",
    "        if item[\"len\"] < 7:\n",
    "            # print(f\"skipped: {item}\")\n",
    "            continue\n",
    "        mask = \"*\" * item[\"len\"]\n",
    "        start = item[\"start\"]\n",
    "        end = item[\"start\"] + item[\"len\"]\n",
    "        # print(start, end)\n",
    "        string_nospace = string_nospace[:start] + mask + string_nospace[end:]\n",
    "    return string_nospace\n",
    "\n",
    "\n",
    "q = \"027-87680961周一至周日10:00-18:00湖北武汉市湖北省武汉市珞瑜路10号街道口银泰创意城4楼4F006\"\n",
    "r = mask_numbers_in_text(q)\n",
    "print(r)\n"
   ]
  },
  {
   "cell_type": "markdown",
   "metadata": {},
   "source": [
    "邮箱"
   ]
  },
  {
   "cell_type": "code",
   "execution_count": null,
   "metadata": {},
   "outputs": [],
   "source": [
    "def is_valid_email(email):\n",
    "    if \"@\" in email and \".\" in email.split(\"@\")[1]:\n",
    "        at_index = email.index(\"@\")\n",
    "        dot_index = email.index(\".\", at_index)\n",
    "        if at_index < dot_index and at_index != 0:\n",
    "            return True\n",
    "    return False\n",
    "\n",
    "def mask_email(email):\n",
    "    at_index = email.index(\"@\")\n",
    "    local_part = email[:at_index]\n",
    "    domain_part = email[at_index+1:]\n",
    "    \n",
    "    # Mask the local part except the first and last character\n",
    "    masked_local_part = local_part[0] + \"****\"\n",
    "    \n",
    "    # Mask the domain part except the first character and the top-level domain\n",
    "    domain_name, tld = domain_part.rsplit(\".\", 1)\n",
    "    masked_domain_part = \"****\" + \".\" + tld\n",
    "    \n",
    "    masked_email = masked_local_part + \"@\" + masked_domain_part\n",
    "    return masked_email\n",
    "\n",
    "def mask_emails_in_text(text):\n",
    "    words = text.split()\n",
    "    masked_words = []\n",
    "    for word in words:\n",
    "        if is_valid_email(word):\n",
    "            masked_words.append(mask_email(word))\n",
    "        else:\n",
    "            masked_words.append(word)\n",
    "    return \" \".join(masked_words)\n",
    "\n",
    "\n",
    "q = \"你好今天天气咋样\"\n",
    "r = mask_emails_in_text(q)\n",
    "print(r)\n"
   ]
  },
  {
   "cell_type": "markdown",
   "metadata": {},
   "source": [
    "ip地址"
   ]
  },
  {
   "cell_type": "code",
   "execution_count": null,
   "metadata": {},
   "outputs": [],
   "source": [
    "import socket\n",
    "\n",
    "def is_valid_ip(ip):\n",
    "    try:\n",
    "        socket.inet_aton(ip)\n",
    "        return True\n",
    "    except socket.error:\n",
    "        return False\n",
    "\n",
    "def mask_ip_in_text(text):\n",
    "    masked_text = \"\"\n",
    "    i = 0\n",
    "    while i < len(text):\n",
    "        found_ip = False\n",
    "        # 尝试从当前位置检查长度为7到15的子字符串（符合IP地址格式的最短和最长长度）\n",
    "        for length in range(15, 6, -1):\n",
    "            if i + length <= len(text):\n",
    "                potential_ip = text[i:i + length]\n",
    "                if is_valid_ip(potential_ip):\n",
    "                    masked_text += '***.***.***.***'\n",
    "                    i += length\n",
    "                    found_ip = True\n",
    "                    break\n",
    "        if not found_ip:\n",
    "            masked_text += text[i]\n",
    "            i += 1\n",
    "    return masked_text\n",
    "\n",
    "'''\n",
    "input_text = \"我的电脑ip地址是192.168.1.1还有一个是10.0.0.1.\"\n",
    "output_text = mask_ip_in_text(input_text)\n",
    "print(output_text)\n",
    "'''"
   ]
  },
  {
   "cell_type": "markdown",
   "metadata": {},
   "source": [
    "随机编码（不好用，会码多）"
   ]
  },
  {
   "cell_type": "code",
   "execution_count": null,
   "metadata": {},
   "outputs": [],
   "source": [
    "def is_valid_code_char(c):\n",
    "    return c.isdigit() or c.isalpha()\n",
    "\n",
    "def is_random_code(substring):\n",
    "    if 6 <= len(substring) <= 15:\n",
    "        return all(is_valid_code_char(c) for c in substring)\n",
    "    return False\n",
    "\n",
    "def mask_random_codes(text):\n",
    "    masked_text = \"\"\n",
    "    i = 0\n",
    "    while i < len(text):\n",
    "        found_code = False\n",
    "        # 检查长度为6到15的子字符串\n",
    "        for length in range(15, 5, -1):\n",
    "            if i + length <= len(text):\n",
    "                potential_code = text[i:i + length]\n",
    "                if is_random_code(potential_code):\n",
    "                    masked_text += '*' * length\n",
    "                    i += length\n",
    "                    found_code = True\n",
    "                    break\n",
    "        # 如果不是随机编码，保留当前字符\n",
    "        if not found_code:\n",
    "            masked_text += text[i]\n",
    "            i += 1\n",
    "    return masked_text\n",
    "\n",
    "'''\n",
    "input_text = \"这个字符串中有随机编码98QYHQF98QHJ和hkjhy8310o以及一些其他文本。\"\n",
    "output_text = mask_random_codes(input_text)\n",
    "print(output_text)\n",
    "'''"
   ]
  },
  {
   "cell_type": "markdown",
   "metadata": {},
   "source": [
    "地址"
   ]
  },
  {
   "cell_type": "code",
   "execution_count": 6,
   "metadata": {},
   "outputs": [
    {
     "name": "stdout",
     "output_type": "stream",
     "text": [
      "027-87680961周一至周日10:00-18:00湖北**市**省**市*****\n"
     ]
    }
   ],
   "source": [
    "import cpca\n",
    "\n",
    "\n",
    "def mask_addr_in_text(string: str):\n",
    "    str_list = [string]\n",
    "    loc_df = cpca.transform(str_list)\n",
    "\n",
    "    for col in loc_df.columns:\n",
    "        value = loc_df.at[0, col]\n",
    "        if str(value) in string:\n",
    "            if col == '省':\n",
    "                string = string.replace(value, '**省')\n",
    "            elif col == '市':\n",
    "                string = string.replace(value, '**市')\n",
    "            elif col == '区':\n",
    "                string = string.replace(value, '**区')\n",
    "            else:\n",
    "                string = string.replace(value, '*****')\n",
    "    return string\n",
    "\n",
    "q = \"027-87680961周一至周日10:00-18:00湖北武汉市湖北省武汉市珞瑜路10号街道口银泰创意城4楼4F006\"\n",
    "r = mask_addr_in_text(q)\n",
    "print(r)"
   ]
  },
  {
   "cell_type": "markdown",
   "metadata": {},
   "source": [
    "姓名"
   ]
  },
  {
   "cell_type": "code",
   "execution_count": null,
   "metadata": {},
   "outputs": [],
   "source": []
  },
  {
   "cell_type": "markdown",
   "metadata": {},
   "source": [
    "### 运行数据集测试效果"
   ]
  },
  {
   "cell_type": "code",
   "execution_count": null,
   "metadata": {},
   "outputs": [],
   "source": [
    "import pandas as pd\n",
    "import os\n",
    "\n",
    "DATA_DIR = \"data\"\n",
    "OUTPUT_DIR = \"data_masked\"\n",
    "FILE_NAME  = \"文本交付内容2023-12-15至2023-12-21-10329.xlsx\"\n",
    "\n",
    "excel_files = os.listdir(DATA_DIR)\n",
    "csv_files = os.listdir(OUTPUT_DIR)\n",
    "'''\n",
    "for f in excel_files:\n",
    "    if '$' in f:\n",
    "        continue\n",
    "        '''\n",
    "f = \"文本交付内容2023-12-15至2023-12-21-10329.xlsx\"\n",
    "df = pd.read_excel(os.path.join(DATA_DIR, f))\n",
    "masked_msgs = []\n",
    "for index, row in df.iterrows():\n",
    "    print(index)\n",
    "    if row['谁说'] != \"客户\":\n",
    "        continue\n",
    "    msg = row['消息正文']\n",
    "    print(msg)\n",
    "    if not isinstance(msg, str):\n",
    "        msg = str(msg)\n",
    "        print(\"msg not str\")\n",
    "    # 手机号邮箱打码处理\n",
    "    masked = mask_numbers_in_text(msg)\n",
    "    masked = mask_emails_in_text(masked)\n",
    "    masked = mask_addr_in_text(masked)\n",
    "    if \"****\" in masked and \"****\" not in msg:\n",
    "        df.at[index, '消息正文'] = masked\n",
    "        print(\"masked: %s\" % masked)\n",
    "\n",
    "df.to_csv(os.path.join(OUTPUT_DIR, f.split(\".xlsx\")[0] + \".csv\"), index=False, encoding=\"utf_8_sig\")\n",
    "print(f\"############### 完成处理：{f} ###############\")\n",
    "    \n",
    "print(\"DONE\")"
   ]
  }
 ],
 "metadata": {
  "kernelspec": {
   "display_name": "Python 3",
   "language": "python",
   "name": "python3"
  },
  "language_info": {
   "codemirror_mode": {
    "name": "ipython",
    "version": 3
   },
   "file_extension": ".py",
   "mimetype": "text/x-python",
   "name": "python",
   "nbconvert_exporter": "python",
   "pygments_lexer": "ipython3",
   "version": "3.11.5"
  }
 },
 "nbformat": 4,
 "nbformat_minor": 2
}
